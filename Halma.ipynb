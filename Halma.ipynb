{
 "cells": [
  {
   "cell_type": "code",
   "execution_count": 6,
   "metadata": {
    "collapsed": false
   },
   "outputs": [],
   "source": [
    "import numpy as np\n",
    "from random import randint"
   ]
  },
  {
   "cell_type": "code",
   "execution_count": 7,
   "metadata": {
    "collapsed": false
   },
   "outputs": [
    {
     "data": {
      "text/plain": [
       "[-1, 0, 1]"
      ]
     },
     "execution_count": 7,
     "metadata": {},
     "output_type": "execute_result"
    }
   ],
   "source": [
    "range(-1, 2)"
   ]
  },
  {
   "cell_type": "code",
   "execution_count": 15,
   "metadata": {
    "collapsed": false
   },
   "outputs": [],
   "source": [
    "class Board(object):\n",
    "    def __init__(self, num_players, rewards):\n",
    "        self.n_players = num_players\n",
    "        self.rewards = rewards\n",
    "        self.grid = [[0 for i in range(16)] for j in range(16)]\n",
    "        self.cur_turn = randint(1, num_players)\n",
    "        self.last_moved = [None, None]\n",
    "        \n",
    "    def reset(self):\n",
    "        self.grid = [[0 for i in range(16)] for j in range(16)]\n",
    "        if self.n_players == 2: \n",
    "            for i in range(6):\n",
    "                for j in range(6):\n",
    "                    if j < 6 - i:\n",
    "                        self.grid[i][j] = 1\n",
    "                        self.grid[16 - i - 1][16 - j - 1] = 2\n",
    "            # because halma is weird\n",
    "            self.grid[0][5] = 0\n",
    "            self.grid[5][0] = 0\n",
    "            self.grid[15][10] = 0\n",
    "            self.grid[10][15] = 0\n",
    "        for row in self.grid:\n",
    "            print row\n",
    "            \n",
    "    def checkWin(self, player):\n",
    "        if self.n_players == 2:\n",
    "            if player == 1:\n",
    "                for i in range(6):\n",
    "                    for j in range(6):\n",
    "                        if j < 6 - i and (i != 10 and j != 15) and (i != 15 and j!= 10):\n",
    "                            if self.grid[16 - i - 1][16 - j - 1] != 1:\n",
    "                                return False\n",
    "            elif player == 2:\n",
    "                for i in range(6):\n",
    "                    for j in range(6):\n",
    "                        if j < 6 - i and (i != 0 and j != 5) and (i != 5 and j!= 0):\n",
    "                            if self.grid[i][j] != 1:\n",
    "                                return False\n",
    "            return True\n",
    "                        \n",
    "    def inBounds(self, i, j):\n",
    "        if i < 0 or j < 0 or j > 15 or i > 15:\n",
    "            return False\n",
    "        return True\n",
    "            \n",
    "    def getlegal(self, i, j):\n",
    "        if self.grid[i][j] == 0:\n",
    "            return []\n",
    "        else:\n",
    "            legal = []\n",
    "            for k in range(-1, 2):\n",
    "                for l in range(-1, 2):\n",
    "                    if self.grid[i + k][j + l] == 0 and self.inBounds(i + k, j + l):\n",
    "                        legal.append([i + k, j + l])\n",
    "                    else: \n",
    "                        if self.grid[i + 2*k][j + 2*l] == 0 and self.inBounds(i + 2*k, j + 2*l):\n",
    "                           legal.append([i + 2*k, j + 2*l]) \n",
    "            print legal\n",
    "            return legal\n",
    "            \n",
    "    def checklegal(self, player, i, j, k, l):\n",
    "        if self.grid[k][l] != 0 or self.grid[i][j] != player:\n",
    "            return False\n",
    "        else:\n",
    "            legal = self.getlegal(i, j)\n",
    "            if [k, l] not in legal:\n",
    "                return False\n",
    "            return True\n",
    "            \n",
    "    def move(self, player, i, j, k, l):\n",
    "        if checklegal(player, i, j, k, l) == True:\n",
    "            self.grid[i][j] = 0\n",
    "            self.grid[k][l] = player\n",
    "        "
   ]
  },
  {
   "cell_type": "code",
   "execution_count": 16,
   "metadata": {
    "collapsed": false
   },
   "outputs": [
    {
     "name": "stdout",
     "output_type": "stream",
     "text": [
      "[1, 1, 1, 1, 1, 0, 0, 0, 0, 0, 0, 0, 0, 0, 0, 0]\n",
      "[1, 1, 1, 1, 1, 0, 0, 0, 0, 0, 0, 0, 0, 0, 0, 0]\n",
      "[1, 1, 1, 1, 0, 0, 0, 0, 0, 0, 0, 0, 0, 0, 0, 0]\n",
      "[1, 1, 1, 0, 0, 0, 0, 0, 0, 0, 0, 0, 0, 0, 0, 0]\n",
      "[1, 1, 0, 0, 0, 0, 0, 0, 0, 0, 0, 0, 0, 0, 0, 0]\n",
      "[0, 0, 0, 0, 0, 0, 0, 0, 0, 0, 0, 0, 0, 0, 0, 0]\n",
      "[0, 0, 0, 0, 0, 0, 0, 0, 0, 0, 0, 0, 0, 0, 0, 0]\n",
      "[0, 0, 0, 0, 0, 0, 0, 0, 0, 0, 0, 0, 0, 0, 0, 0]\n",
      "[0, 0, 0, 0, 0, 0, 0, 0, 0, 0, 0, 0, 0, 0, 0, 0]\n",
      "[0, 0, 0, 0, 0, 0, 0, 0, 0, 0, 0, 0, 0, 0, 0, 0]\n",
      "[0, 0, 0, 0, 0, 0, 0, 0, 0, 0, 0, 0, 0, 0, 0, 0]\n",
      "[0, 0, 0, 0, 0, 0, 0, 0, 0, 0, 0, 0, 0, 0, 2, 2]\n",
      "[0, 0, 0, 0, 0, 0, 0, 0, 0, 0, 0, 0, 0, 2, 2, 2]\n",
      "[0, 0, 0, 0, 0, 0, 0, 0, 0, 0, 0, 0, 2, 2, 2, 2]\n",
      "[0, 0, 0, 0, 0, 0, 0, 0, 0, 0, 0, 2, 2, 2, 2, 2]\n",
      "[0, 0, 0, 0, 0, 0, 0, 0, 0, 0, 0, 2, 2, 2, 2, 2]\n",
      "[[0, 5], [2, 4], [1, 5]]\n"
     ]
    },
    {
     "data": {
      "text/plain": [
       "[[0, 5], [2, 4], [1, 5]]"
      ]
     },
     "execution_count": 16,
     "metadata": {},
     "output_type": "execute_result"
    }
   ],
   "source": [
    "board = Board(2, 0)\n",
    "board.reset()\n",
    "board.getlegal(0, 4)"
   ]
  },
  {
   "cell_type": "code",
   "execution_count": null,
   "metadata": {
    "collapsed": false
   },
   "outputs": [],
   "source": [
    "class Player(object):\n",
    "    def __init__(self):\n",
    "        self.something = something\n",
    "\n",
    "\n",
    "\n",
    "class Game(object):\n",
    "    def __init__(self):\n",
    "        self.something = something"
   ]
  }
 ],
 "metadata": {
  "kernelspec": {
   "display_name": "Python 2",
   "language": "python",
   "name": "python2"
  },
  "language_info": {
   "codemirror_mode": {
    "name": "ipython",
    "version": 2
   },
   "file_extension": ".py",
   "mimetype": "text/x-python",
   "name": "python",
   "nbconvert_exporter": "python",
   "pygments_lexer": "ipython2",
   "version": "2.7.8"
  }
 },
 "nbformat": 4,
 "nbformat_minor": 0
}
