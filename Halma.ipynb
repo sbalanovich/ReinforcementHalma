{
 "metadata": {
  "name": "",
  "signature": "sha256:d8c08e59a7d3aba72575b0a0bd2998f557c07e38b96d26d18bd73c1a0b44bd4c"
 },
 "nbformat": 3,
 "nbformat_minor": 0,
 "worksheets": [
  {
   "cells": [
    {
     "cell_type": "code",
     "collapsed": false,
     "input": [
      "import numpy as np\n",
      "from random import randint"
     ],
     "language": "python",
     "metadata": {},
     "outputs": [],
     "prompt_number": 6
    },
    {
     "cell_type": "code",
     "collapsed": false,
     "input": [
      "range(-1, 2)"
     ],
     "language": "python",
     "metadata": {},
     "outputs": [
      {
       "metadata": {},
       "output_type": "pyout",
       "prompt_number": 7,
       "text": [
        "[-1, 0, 1]"
       ]
      }
     ],
     "prompt_number": 7
    },
    {
     "cell_type": "code",
     "collapsed": false,
     "input": [
      "class Board(object):\n",
      "    def __init__(self, num_players, rewards):\n",
      "        self.n_players = num_players\n",
      "        self.rewards = rewards\n",
      "        self.grid = [[0 for i in range(16)] for j in range(16)]\n",
      "        self.cur_turn = randint(1, num_players)\n",
      "        self.last_moved = [None, None]\n",
      "        \n",
      "    def reset(self):\n",
      "        self.grid = [[0 for i in range(16)] for j in range(16)]\n",
      "        if self.n_players == 2: \n",
      "            for i in range(6):\n",
      "                for j in range(6):\n",
      "                    if j < 6 - i:\n",
      "                        self.grid[i][j] = 1\n",
      "                        self.grid[16 - i - 1][16 - j - 1] = 2\n",
      "            # because halma is weird\n",
      "            self.grid[0][5] = 0\n",
      "            self.grid[5][0] = 0\n",
      "            self.grid[15][10] = 0\n",
      "            self.grid[10][15] = 0\n",
      "        for row in self.grid:\n",
      "            print row\n",
      "            \n",
      "    def inBounds(self, i, j):\n",
      "        if i < 0 or j < 0 or j > 15 or i > 15:\n",
      "            return False\n",
      "        return True\n",
      "            \n",
      "    def getlegal(self, i, j):\n",
      "        if self.grid[i][j] == 0:\n",
      "            return []\n",
      "        else:\n",
      "            legal = []\n",
      "            for k in range(-1, 2):\n",
      "                for l in range(-1, 2):\n",
      "                    if self.grid[i + k][j + l] == 0 and self.inBounds(i + k, j + l):\n",
      "                        legal.append([i + k, j + l])\n",
      "                    else: \n",
      "                        if self.grid[i + 2*k][j + 2*l] == 0 and self.inBounds(i + 2*k, j + 2*l):\n",
      "                           legal.append([i + 2*k, j + 2*l]) \n",
      "            print legal\n",
      "            return legal\n",
      "            \n",
      "    def checklegal(self, player, i, j, k, l):\n",
      "        if self.grid[k][l] != 0 or self.grid[i][j] != player:\n",
      "            return False\n",
      "        else:\n",
      "            legal = self.getlegal(i, j)\n",
      "            if [k, l] not in legal:\n",
      "                return False\n",
      "            return True\n",
      "            \n",
      "    def move(self, player, i, j, k, l):\n",
      "        if checklegal(player, i, j, k, l) == True:\n",
      "            self.grid[i][j] = 0\n",
      "            self.grid[k][l] = player\n",
      "        "
     ],
     "language": "python",
     "metadata": {},
     "outputs": [],
     "prompt_number": 15
    },
    {
     "cell_type": "code",
     "collapsed": false,
     "input": [
      "board = Board(2, 0)\n",
      "board.reset()\n",
      "board.getlegal(0, 4)"
     ],
     "language": "python",
     "metadata": {},
     "outputs": [
      {
       "output_type": "stream",
       "stream": "stdout",
       "text": [
        "[1, 1, 1, 1, 1, 0, 0, 0, 0, 0, 0, 0, 0, 0, 0, 0]\n",
        "[1, 1, 1, 1, 1, 0, 0, 0, 0, 0, 0, 0, 0, 0, 0, 0]\n",
        "[1, 1, 1, 1, 0, 0, 0, 0, 0, 0, 0, 0, 0, 0, 0, 0]\n",
        "[1, 1, 1, 0, 0, 0, 0, 0, 0, 0, 0, 0, 0, 0, 0, 0]\n",
        "[1, 1, 0, 0, 0, 0, 0, 0, 0, 0, 0, 0, 0, 0, 0, 0]\n",
        "[0, 0, 0, 0, 0, 0, 0, 0, 0, 0, 0, 0, 0, 0, 0, 0]\n",
        "[0, 0, 0, 0, 0, 0, 0, 0, 0, 0, 0, 0, 0, 0, 0, 0]\n",
        "[0, 0, 0, 0, 0, 0, 0, 0, 0, 0, 0, 0, 0, 0, 0, 0]\n",
        "[0, 0, 0, 0, 0, 0, 0, 0, 0, 0, 0, 0, 0, 0, 0, 0]\n",
        "[0, 0, 0, 0, 0, 0, 0, 0, 0, 0, 0, 0, 0, 0, 0, 0]\n",
        "[0, 0, 0, 0, 0, 0, 0, 0, 0, 0, 0, 0, 0, 0, 0, 0]\n",
        "[0, 0, 0, 0, 0, 0, 0, 0, 0, 0, 0, 0, 0, 0, 2, 2]\n",
        "[0, 0, 0, 0, 0, 0, 0, 0, 0, 0, 0, 0, 0, 2, 2, 2]\n",
        "[0, 0, 0, 0, 0, 0, 0, 0, 0, 0, 0, 0, 2, 2, 2, 2]\n",
        "[0, 0, 0, 0, 0, 0, 0, 0, 0, 0, 0, 2, 2, 2, 2, 2]\n",
        "[0, 0, 0, 0, 0, 0, 0, 0, 0, 0, 0, 2, 2, 2, 2, 2]\n",
        "[[0, 5], [2, 4], [1, 5]]\n"
       ]
      },
      {
       "metadata": {},
       "output_type": "pyout",
       "prompt_number": 16,
       "text": [
        "[[0, 5], [2, 4], [1, 5]]"
       ]
      }
     ],
     "prompt_number": 16
    },
    {
     "cell_type": "code",
     "collapsed": false,
     "input": [
      "class Player(object):\n",
      "    def __init__(self):\n",
      "        self.something = something\n",
      "\n",
      "\n",
      "\n",
      "class Game(object):\n",
      "    def __init__(self):\n",
      "        self.something = something"
     ],
     "language": "python",
     "metadata": {},
     "outputs": []
    }
   ],
   "metadata": {}
  }
 ]
}