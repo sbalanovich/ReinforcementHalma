{
 "cells": [
  {
   "cell_type": "code",
   "execution_count": 1,
   "metadata": {
    "collapsed": false
   },
   "outputs": [],
   "source": [
    "import numpy as np\n",
    "from random import randint"
   ]
  },
  {
   "cell_type": "code",
   "execution_count": 2,
   "metadata": {
    "collapsed": false
   },
   "outputs": [
    {
     "data": {
      "text/plain": [
       "[-1, 0, 1]"
      ]
     },
     "execution_count": 2,
     "metadata": {},
     "output_type": "execute_result"
    }
   ],
   "source": [
    "range(-1, 2)"
   ]
  },
  {
   "cell_type": "code",
   "execution_count": 3,
   "metadata": {
    "collapsed": false
   },
   "outputs": [],
   "source": [
    "class Board(object):\n",
    "    def __init__(self, num_players, rewards):\n",
    "        self.n_players = num_players\n",
    "        self.rewards = rewards\n",
    "        self.grid = [[0 for i in range(16)] for j in range(16)]\n",
    "        self.cur_turn = randint(1, num_players)\n",
    "        self.last_moved = [None, None]\n",
    "        self.starting_positions = {}\n",
    "        if self.n_players == 2: \n",
    "            self.starting_positions[1] = [[0, 0], [0, 1], [0, 2], [0, 3], [0, 4], [1, 0], [1, 1], [1, 2], [1, 3], [1, 4], [2, 0], [2, 1], [2, 2], [2, 3], [3, 0], [3, 1], [3, 2], [4, 0], [4, 1]] \n",
    "            self.starting_positions[2] = [[15, 11], [15, 12], [15, 13], [15, 14], [15, 15], [14, 11], [14, 12], [14, 13], [14, 14], [14, 15], [13, 12], [13, 13], [13, 14], [13, 15], [12, 13], [12, 14], [12, 15], [11, 14], [11, 15]] \n",
    "        \n",
    "    def printBoard(self):\n",
    "        for r in self.grid:\n",
    "            print r\n",
    "            \n",
    "    def reset(self):\n",
    "        self.grid = [[0 for i in range(16)] for j in range(16)]\n",
    "        if self.n_players == 2: \n",
    "            for player, lst in self.starting_positions.items():\n",
    "                 for x, y in lst:\n",
    "                        self.grid[x][y] = player\n",
    "        for row in self.grid:\n",
    "            print(row)\n",
    "            \n",
    "    def checkWin(self, player):\n",
    "        if self.n_players == 2:\n",
    "            win_positions = []\n",
    "            if player == 1:\n",
    "                win_positions = self.starting_positions[2]\n",
    "            elif player == 2:\n",
    "                win_positions = self.starting_positions[1]\n",
    "            \n",
    "            for x, y in win_positions:\n",
    "                if self.grid[x][y] != player:\n",
    "                    return False\n",
    "            return True\n",
    "                        \n",
    "    def inBounds(self, i, j):\n",
    "        if i < 0 or j < 0 or j > 15 or i > 15:\n",
    "            return False\n",
    "        return True\n",
    "            \n",
    "    def getlegal(self, i, j):\n",
    "        legal = {\"moves\": [], \"jumps\": []}\n",
    "        if self.grid[i][j] == 0:\n",
    "            return legal\n",
    "        else:            \n",
    "            for k in range(-1, 2):\n",
    "                for l in range(-1, 2):\n",
    "                    if i+k < 16 and j+l < 16:\n",
    "                        if self.grid[i + k][j + l] == 0 and self.inBounds(i + k, j + l):\n",
    "                            legal[\"moves\"].append([i + k, j + l])\n",
    "                        elif i+2*k < 16 and j+2*l < 16: \n",
    "                            if self.grid[i + 2*k][j + 2*l] == 0 and self.inBounds(i + 2*k, j + 2*l):\n",
    "                                legal[\"jumps\"].append([i + 2*k, j + 2*l]) \n",
    "            return legal\n",
    "            \n",
    "    def checklegal(self, player, i, j, k, l):\n",
    "        if self.grid[k][l] != 0 or self.grid[i][j] != player:\n",
    "            print(\"You can't do that move\")\n",
    "            return False\n",
    "        else:\n",
    "            legal = self.getlegal(i, j)\n",
    "            if [k, l] not in legal[\"moves\"] and [k, l] not in legal[\"jumps\"]:\n",
    "                print(\"Not legal move\")\n",
    "                return False\n",
    "            return True\n",
    "            \n",
    "    def move(self, player, i, j, k, l, pBoard = False):\n",
    "        if self.checklegal(player, i, j, k, l) == True:\n",
    "            self.grid[i][j] = 0\n",
    "            self.grid[k][l] = player\n",
    "            if pBoard:\n",
    "                self.printBoard()\n",
    "        "
   ]
  },
  {
   "cell_type": "code",
   "execution_count": 4,
   "metadata": {
    "collapsed": false
   },
   "outputs": [
    {
     "name": "stdout",
     "output_type": "stream",
     "text": [
      "[1, 1, 1, 1, 1, 0, 0, 0, 0, 0, 0, 0, 0, 0, 0, 0]\n",
      "[1, 1, 1, 1, 1, 0, 0, 0, 0, 0, 0, 0, 0, 0, 0, 0]\n",
      "[1, 1, 1, 1, 0, 0, 0, 0, 0, 0, 0, 0, 0, 0, 0, 0]\n",
      "[1, 1, 1, 0, 0, 0, 0, 0, 0, 0, 0, 0, 0, 0, 0, 0]\n",
      "[1, 1, 0, 0, 0, 0, 0, 0, 0, 0, 0, 0, 0, 0, 0, 0]\n",
      "[0, 0, 0, 0, 0, 0, 0, 0, 0, 0, 0, 0, 0, 0, 0, 0]\n",
      "[0, 0, 0, 0, 0, 0, 0, 0, 0, 0, 0, 0, 0, 0, 0, 0]\n",
      "[0, 0, 0, 0, 0, 0, 0, 0, 0, 0, 0, 0, 0, 0, 0, 0]\n",
      "[0, 0, 0, 0, 0, 0, 0, 0, 0, 0, 0, 0, 0, 0, 0, 0]\n",
      "[0, 0, 0, 0, 0, 0, 0, 0, 0, 0, 0, 0, 0, 0, 0, 0]\n",
      "[0, 0, 0, 0, 0, 0, 0, 0, 0, 0, 0, 0, 0, 0, 0, 0]\n",
      "[0, 0, 0, 0, 0, 0, 0, 0, 0, 0, 0, 0, 0, 0, 2, 2]\n",
      "[0, 0, 0, 0, 0, 0, 0, 0, 0, 0, 0, 0, 0, 2, 2, 2]\n",
      "[0, 0, 0, 0, 0, 0, 0, 0, 0, 0, 0, 0, 2, 2, 2, 2]\n",
      "[0, 0, 0, 0, 0, 0, 0, 0, 0, 0, 0, 2, 2, 2, 2, 2]\n",
      "[0, 0, 0, 0, 0, 0, 0, 0, 0, 0, 0, 2, 2, 2, 2, 2]\n",
      "False\n",
      "False\n"
     ]
    }
   ],
   "source": [
    "board = Board(2, 0)\n",
    "board.reset()\n",
    "board.getlegal(0, 4)\n",
    "print board.checkWin(1)\n",
    "print board.checkWin(2)"
   ]
  },
  {
   "cell_type": "code",
   "execution_count": 5,
   "metadata": {
    "collapsed": false
   },
   "outputs": [
    {
     "name": "stdout",
     "output_type": "stream",
     "text": [
      "[1, 1, 1, 1, 0, 1, 0, 0, 0, 0, 0, 0, 0, 0, 0, 0]\n",
      "[1, 1, 1, 1, 1, 0, 0, 0, 0, 0, 0, 0, 0, 0, 0, 0]\n",
      "[1, 1, 1, 1, 0, 0, 0, 0, 0, 0, 0, 0, 0, 0, 0, 0]\n",
      "[1, 1, 1, 0, 0, 0, 0, 0, 0, 0, 0, 0, 0, 0, 0, 0]\n",
      "[1, 1, 0, 0, 0, 0, 0, 0, 0, 0, 0, 0, 0, 0, 0, 0]\n",
      "[0, 0, 0, 0, 0, 0, 0, 0, 0, 0, 0, 0, 0, 0, 0, 0]\n",
      "[0, 0, 0, 0, 0, 0, 0, 0, 0, 0, 0, 0, 0, 0, 0, 0]\n",
      "[0, 0, 0, 0, 0, 0, 0, 0, 0, 0, 0, 0, 0, 0, 0, 0]\n",
      "[0, 0, 0, 0, 0, 0, 0, 0, 0, 0, 0, 0, 0, 0, 0, 0]\n",
      "[0, 0, 0, 0, 0, 0, 0, 0, 0, 0, 0, 0, 0, 0, 0, 0]\n",
      "[0, 0, 0, 0, 0, 0, 0, 0, 0, 0, 0, 0, 0, 0, 0, 0]\n",
      "[0, 0, 0, 0, 0, 0, 0, 0, 0, 0, 0, 0, 0, 0, 2, 2]\n",
      "[0, 0, 0, 0, 0, 0, 0, 0, 0, 0, 0, 0, 0, 2, 2, 2]\n",
      "[0, 0, 0, 0, 0, 0, 0, 0, 0, 0, 0, 0, 2, 2, 2, 2]\n",
      "[0, 0, 0, 0, 0, 0, 0, 0, 0, 0, 0, 2, 2, 2, 2, 2]\n",
      "[0, 0, 0, 0, 0, 0, 0, 0, 0, 0, 0, 2, 2, 2, 2, 2]\n"
     ]
    }
   ],
   "source": [
    "board.move(1, 0, 4, 0, 5, True)"
   ]
  },
  {
   "cell_type": "code",
   "execution_count": 6,
   "metadata": {
    "collapsed": false
   },
   "outputs": [],
   "source": [
    "class Agent(object):\n",
    "    def __init__(self, ID, baseOrigin):\n",
    "        self.ID = ID\n",
    "        self.baseOrigin = baseOrigin\n",
    "        self.board = board\n",
    "        self.pieces = board.starting_positions[self.ID]\n",
    "        \n",
    "    def bestMove(self, mustJump = False):\n",
    "        distPieces = [(self.distToBaseCamp(piece), piece) for piece in self.pieces]\n",
    "        distPieces.sort(reverse=True)\n",
    "        for dist, piece in distPieces:\n",
    "            i, j = piece\n",
    "            moves = board.getlegal(i, j)\n",
    "            # Break only on jumps if must jump\n",
    "            if mustJump and moves[\"jumps\"]:\n",
    "                break\n",
    "            # Break if the next furthest piece has no moves\n",
    "            elif moves[\"jumps\"] or moves[\"moves\"]:\n",
    "                break\n",
    "        if not moves:\n",
    "            return [False, False]\n",
    "        # \"i, j\" is now the furthest moveable piece and \"moves\" are its moves\n",
    "        sortedJumps = ([(self.distToBaseCamp(move), move) for move in moves[\"jumps\"]])\n",
    "        sortedJumps.sort()\n",
    "        k, l = i, j\n",
    "        jumped = False\n",
    "        if sortedJumps:\n",
    "            k, l = sortedJumps[0][1]\n",
    "            jumped = True\n",
    "        else:            \n",
    "            sortedMoves = ([(self.distToBaseCamp(move), move) for move in moves[\"moves\"]])\n",
    "            sortedMoves.sort()\n",
    "            k, l = sortedMoves[0][1]\n",
    "        return [(i, j, k, l), jumped]\n",
    "    \n",
    "    def distToBaseCamp(self, piece):\n",
    "        baseX, baseY = self.baseOrigin\n",
    "        pieceX, pieceY = piece\n",
    "        return np.fabs(baseY - pieceY)/np.fabs(baseX-pieceX)\n",
    "    \n",
    "    def move(self):\n",
    "        move, jumped = self.bestMove()\n",
    "        while jumped:\n",
    "            i, j, k, l = move\n",
    "            board.move(self.ID, i, j, k, l)\n",
    "            move, jumped = self.bestMove(mustJump = True)\n",
    "        "
   ]
  },
  {
   "cell_type": "code",
   "execution_count": 7,
   "metadata": {
    "collapsed": false
   },
   "outputs": [],
   "source": [
    "def PlayGame(nplayers = 2):\n",
    "    board = Board(nplayers, 0)\n",
    "    board.reset()\n",
    "    origins = [[0, 0], [15, 15]]\n",
    "    players = [Agent(i, origins[1- (i-1)]) for i in range(1, nplayers+1)]\n",
    "    while True:\n",
    "        for p in players:\n",
    "            # Check if game is ended\n",
    "            if board.checkWin(p.ID):\n",
    "                board.printBoard()\n",
    "                print p.ID\n",
    "                return p, True\n",
    "            p.move()"
   ]
  },
  {
   "cell_type": "code",
   "execution_count": 8,
   "metadata": {
    "collapsed": false
   },
   "outputs": [
    {
     "name": "stdout",
     "output_type": "stream",
     "text": [
      "[1, 1, 1, 1, 1, 0, 0, 0, 0, 0, 0, 0, 0, 0, 0, 0]\n",
      "[1, 1, 1, 1, 1, 0, 0, 0, 0, 0, 0, 0, 0, 0, 0, 0]\n",
      "[1, 1, 1, 1, 0, 0, 0, 0, 0, 0, 0, 0, 0, 0, 0, 0]\n",
      "[1, 1, 1, 0, 0, 0, 0, 0, 0, 0, 0, 0, 0, 0, 0, 0]\n",
      "[1, 1, 0, 0, 0, 0, 0, 0, 0, 0, 0, 0, 0, 0, 0, 0]\n",
      "[0, 0, 0, 0, 0, 0, 0, 0, 0, 0, 0, 0, 0, 0, 0, 0]\n",
      "[0, 0, 0, 0, 0, 0, 0, 0, 0, 0, 0, 0, 0, 0, 0, 0]\n",
      "[0, 0, 0, 0, 0, 0, 0, 0, 0, 0, 0, 0, 0, 0, 0, 0]\n",
      "[0, 0, 0, 0, 0, 0, 0, 0, 0, 0, 0, 0, 0, 0, 0, 0]\n",
      "[0, 0, 0, 0, 0, 0, 0, 0, 0, 0, 0, 0, 0, 0, 0, 0]\n",
      "[0, 0, 0, 0, 0, 0, 0, 0, 0, 0, 0, 0, 0, 0, 0, 0]\n",
      "[0, 0, 0, 0, 0, 0, 0, 0, 0, 0, 0, 0, 0, 0, 2, 2]\n",
      "[0, 0, 0, 0, 0, 0, 0, 0, 0, 0, 0, 0, 0, 2, 2, 2]\n",
      "[0, 0, 0, 0, 0, 0, 0, 0, 0, 0, 0, 0, 2, 2, 2, 2]\n",
      "[0, 0, 0, 0, 0, 0, 0, 0, 0, 0, 0, 2, 2, 2, 2, 2]\n",
      "[0, 0, 0, 0, 0, 0, 0, 0, 0, 0, 0, 2, 2, 2, 2, 2]\n"
     ]
    },
    {
     "ename": "KeyboardInterrupt",
     "evalue": "",
     "output_type": "error",
     "traceback": [
      "\u001b[1;31m---------------------------------------------------------------------------\u001b[0m",
      "\u001b[1;31mKeyboardInterrupt\u001b[0m                         Traceback (most recent call last)",
      "\u001b[1;32m<ipython-input-8-5ae2d9fe88ec>\u001b[0m in \u001b[0;36m<module>\u001b[1;34m()\u001b[0m\n\u001b[1;32m----> 1\u001b[1;33m \u001b[0mPlayGame\u001b[0m\u001b[1;33m(\u001b[0m\u001b[1;33m)\u001b[0m\u001b[1;33m\u001b[0m\u001b[0m\n\u001b[0m",
      "\u001b[1;32m<ipython-input-7-3274dab774eb>\u001b[0m in \u001b[0;36mPlayGame\u001b[1;34m(nplayers)\u001b[0m\n\u001b[0;32m     11\u001b[0m                 \u001b[1;32mprint\u001b[0m \u001b[0mp\u001b[0m\u001b[1;33m.\u001b[0m\u001b[0mID\u001b[0m\u001b[1;33m\u001b[0m\u001b[0m\n\u001b[0;32m     12\u001b[0m                 \u001b[1;32mreturn\u001b[0m \u001b[0mp\u001b[0m\u001b[1;33m,\u001b[0m \u001b[0mTrue\u001b[0m\u001b[1;33m\u001b[0m\u001b[0m\n\u001b[1;32m---> 13\u001b[1;33m             \u001b[0mp\u001b[0m\u001b[1;33m.\u001b[0m\u001b[0mmove\u001b[0m\u001b[1;33m(\u001b[0m\u001b[1;33m)\u001b[0m\u001b[1;33m\u001b[0m\u001b[0m\n\u001b[0m",
      "\u001b[1;32m<ipython-input-6-3cbfb0052b8d>\u001b[0m in \u001b[0;36mmove\u001b[1;34m(self)\u001b[0m\n\u001b[0;32m     40\u001b[0m \u001b[1;33m\u001b[0m\u001b[0m\n\u001b[0;32m     41\u001b[0m     \u001b[1;32mdef\u001b[0m \u001b[0mmove\u001b[0m\u001b[1;33m(\u001b[0m\u001b[0mself\u001b[0m\u001b[1;33m)\u001b[0m\u001b[1;33m:\u001b[0m\u001b[1;33m\u001b[0m\u001b[0m\n\u001b[1;32m---> 42\u001b[1;33m         \u001b[0mmove\u001b[0m\u001b[1;33m,\u001b[0m \u001b[0mjumped\u001b[0m \u001b[1;33m=\u001b[0m \u001b[0mself\u001b[0m\u001b[1;33m.\u001b[0m\u001b[0mbestMove\u001b[0m\u001b[1;33m(\u001b[0m\u001b[1;33m)\u001b[0m\u001b[1;33m\u001b[0m\u001b[0m\n\u001b[0m\u001b[0;32m     43\u001b[0m         \u001b[1;32mwhile\u001b[0m \u001b[0mjumped\u001b[0m\u001b[1;33m:\u001b[0m\u001b[1;33m\u001b[0m\u001b[0m\n\u001b[0;32m     44\u001b[0m             \u001b[0mi\u001b[0m\u001b[1;33m,\u001b[0m \u001b[0mj\u001b[0m\u001b[1;33m,\u001b[0m \u001b[0mk\u001b[0m\u001b[1;33m,\u001b[0m \u001b[0ml\u001b[0m \u001b[1;33m=\u001b[0m \u001b[0mmove\u001b[0m\u001b[1;33m\u001b[0m\u001b[0m\n",
      "\u001b[1;32m<ipython-input-6-3cbfb0052b8d>\u001b[0m in \u001b[0;36mbestMove\u001b[1;34m(self, mustJump)\u001b[0m\n\u001b[0;32m      7\u001b[0m \u001b[1;33m\u001b[0m\u001b[0m\n\u001b[0;32m      8\u001b[0m     \u001b[1;32mdef\u001b[0m \u001b[0mbestMove\u001b[0m\u001b[1;33m(\u001b[0m\u001b[0mself\u001b[0m\u001b[1;33m,\u001b[0m \u001b[0mmustJump\u001b[0m \u001b[1;33m=\u001b[0m \u001b[0mFalse\u001b[0m\u001b[1;33m)\u001b[0m\u001b[1;33m:\u001b[0m\u001b[1;33m\u001b[0m\u001b[0m\n\u001b[1;32m----> 9\u001b[1;33m         \u001b[0mdistPieces\u001b[0m \u001b[1;33m=\u001b[0m \u001b[1;33m[\u001b[0m\u001b[1;33m(\u001b[0m\u001b[0mself\u001b[0m\u001b[1;33m.\u001b[0m\u001b[0mdistToBaseCamp\u001b[0m\u001b[1;33m(\u001b[0m\u001b[0mpiece\u001b[0m\u001b[1;33m)\u001b[0m\u001b[1;33m,\u001b[0m \u001b[0mpiece\u001b[0m\u001b[1;33m)\u001b[0m \u001b[1;32mfor\u001b[0m \u001b[0mpiece\u001b[0m \u001b[1;32min\u001b[0m \u001b[0mself\u001b[0m\u001b[1;33m.\u001b[0m\u001b[0mpieces\u001b[0m\u001b[1;33m]\u001b[0m\u001b[1;33m\u001b[0m\u001b[0m\n\u001b[0m\u001b[0;32m     10\u001b[0m         \u001b[0mdistPieces\u001b[0m\u001b[1;33m.\u001b[0m\u001b[0msort\u001b[0m\u001b[1;33m(\u001b[0m\u001b[0mreverse\u001b[0m\u001b[1;33m=\u001b[0m\u001b[0mTrue\u001b[0m\u001b[1;33m)\u001b[0m\u001b[1;33m\u001b[0m\u001b[0m\n\u001b[0;32m     11\u001b[0m         \u001b[1;32mfor\u001b[0m \u001b[0mdist\u001b[0m\u001b[1;33m,\u001b[0m \u001b[0mpiece\u001b[0m \u001b[1;32min\u001b[0m \u001b[0mdistPieces\u001b[0m\u001b[1;33m:\u001b[0m\u001b[1;33m\u001b[0m\u001b[0m\n",
      "\u001b[1;32m<ipython-input-6-3cbfb0052b8d>\u001b[0m in \u001b[0;36mdistToBaseCamp\u001b[1;34m(self, piece)\u001b[0m\n\u001b[0;32m     37\u001b[0m         \u001b[0mbaseX\u001b[0m\u001b[1;33m,\u001b[0m \u001b[0mbaseY\u001b[0m \u001b[1;33m=\u001b[0m \u001b[0mself\u001b[0m\u001b[1;33m.\u001b[0m\u001b[0mbaseOrigin\u001b[0m\u001b[1;33m\u001b[0m\u001b[0m\n\u001b[0;32m     38\u001b[0m         \u001b[0mpieceX\u001b[0m\u001b[1;33m,\u001b[0m \u001b[0mpieceY\u001b[0m \u001b[1;33m=\u001b[0m \u001b[0mpiece\u001b[0m\u001b[1;33m\u001b[0m\u001b[0m\n\u001b[1;32m---> 39\u001b[1;33m         \u001b[1;32mreturn\u001b[0m \u001b[0mnp\u001b[0m\u001b[1;33m.\u001b[0m\u001b[0mfabs\u001b[0m\u001b[1;33m(\u001b[0m\u001b[0mbaseY\u001b[0m \u001b[1;33m-\u001b[0m \u001b[0mpieceY\u001b[0m\u001b[1;33m)\u001b[0m\u001b[1;33m/\u001b[0m\u001b[0mnp\u001b[0m\u001b[1;33m.\u001b[0m\u001b[0mfabs\u001b[0m\u001b[1;33m(\u001b[0m\u001b[0mbaseX\u001b[0m\u001b[1;33m-\u001b[0m\u001b[0mpieceX\u001b[0m\u001b[1;33m)\u001b[0m\u001b[1;33m\u001b[0m\u001b[0m\n\u001b[0m\u001b[0;32m     40\u001b[0m \u001b[1;33m\u001b[0m\u001b[0m\n\u001b[0;32m     41\u001b[0m     \u001b[1;32mdef\u001b[0m \u001b[0mmove\u001b[0m\u001b[1;33m(\u001b[0m\u001b[0mself\u001b[0m\u001b[1;33m)\u001b[0m\u001b[1;33m:\u001b[0m\u001b[1;33m\u001b[0m\u001b[0m\n",
      "\u001b[1;31mKeyboardInterrupt\u001b[0m: "
     ]
    }
   ],
   "source": [
    "PlayGame()"
   ]
  },
  {
   "cell_type": "code",
   "execution_count": 9,
   "metadata": {
    "collapsed": false
   },
   "outputs": [
    {
     "name": "stdout",
     "output_type": "stream",
     "text": [
      "[1, 1, 1, 1, 0, 1, 0, 0, 0, 0, 0, 0, 0, 0, 0, 0]\n",
      "[1, 1, 1, 1, 1, 0, 0, 0, 0, 0, 0, 0, 0, 0, 0, 0]\n",
      "[1, 1, 1, 1, 0, 0, 0, 0, 0, 0, 0, 0, 0, 0, 0, 0]\n",
      "[1, 1, 1, 0, 0, 0, 0, 0, 0, 0, 0, 0, 0, 0, 0, 0]\n",
      "[0, 0, 1, 1, 0, 0, 0, 0, 0, 0, 0, 0, 0, 0, 0, 0]\n",
      "[0, 0, 0, 0, 0, 0, 0, 0, 0, 0, 0, 0, 0, 0, 0, 0]\n",
      "[0, 0, 0, 0, 0, 0, 0, 0, 0, 0, 0, 0, 0, 0, 0, 0]\n",
      "[0, 0, 0, 0, 0, 0, 0, 0, 0, 0, 0, 0, 0, 0, 0, 0]\n",
      "[0, 0, 0, 0, 0, 0, 0, 0, 0, 0, 0, 0, 0, 0, 0, 0]\n",
      "[0, 0, 0, 0, 0, 0, 0, 0, 0, 0, 0, 0, 0, 0, 0, 0]\n",
      "[0, 0, 0, 0, 0, 0, 0, 0, 0, 0, 0, 0, 0, 0, 0, 0]\n",
      "[0, 0, 0, 0, 0, 0, 0, 0, 0, 0, 0, 0, 2, 2, 0, 0]\n",
      "[0, 0, 0, 0, 0, 0, 0, 0, 0, 0, 0, 0, 0, 2, 2, 2]\n",
      "[0, 0, 0, 0, 0, 0, 0, 0, 0, 0, 0, 0, 2, 2, 2, 2]\n",
      "[0, 0, 0, 0, 0, 0, 0, 0, 0, 0, 0, 2, 2, 2, 2, 2]\n",
      "[0, 0, 0, 0, 0, 0, 0, 0, 0, 0, 0, 2, 2, 2, 2, 2]\n"
     ]
    }
   ],
   "source": [
    "board.printBoard()"
   ]
  },
  {
   "cell_type": "code",
   "execution_count": null,
   "metadata": {
    "collapsed": true
   },
   "outputs": [],
   "source": [
    "class QLearn(object):\n",
    "    def __init__(self, task, trials, max_eps, max_iters, alpha, gamma, eps, init):\n",
    "        self.task = task\n",
    "        \n",
    "        self.total_i_e = []\n",
    "        self.total_c_e = []\n",
    "        self.total_i_i = []\n",
    "        self.total_c_i = []\n",
    "        \n",
    "        self.trials = trials\n",
    "        self.max_iters = max_iters\n",
    "        self.max_eps = max_eps\n",
    "        self.gamma = gamma\n",
    "        \n",
    "        self.alpha = alpha\n",
    "        self.eps = eps\n",
    "        self.init = init\n",
    "        \n",
    "        self.act_list = [i for i in range(self.task.num_actions)]\n",
    "    \n",
    "    # Function to choose function based on max value\n",
    "    def chooseAction(self, state, Q):\n",
    "        best_action = 0\n",
    "        best_Q = -float(\"inf\")\n",
    "        # In the case of epsilon, return a random action\n",
    "        if (random.random() < self.eps):\n",
    "            action = int(random.random() * task.num_actions)\n",
    "            return action\n",
    "        else:\n",
    "            # Shuffle the action list so that we select new\n",
    "            # actions in case of ties. Then maximize\n",
    "            random.shuffle(self.act_list)\n",
    "            for a in self.act_list:\n",
    "                temp_Q = Q[state][a]\n",
    "                if temp_Q > best_Q:\n",
    "                    best_Q = temp_Q\n",
    "                    best_action = a\n",
    "            return best_action\n",
    "    \n",
    "    # Function to run the trial with some (default .5) alpha\n",
    "    def runTrial(self):\n",
    "        # Init everything as 0 or NaN\n",
    "        numEps = 0\n",
    "        numIters = 0\n",
    "        immIterRewards = [np.nan for i in range(self.max_iters)]\n",
    "        cumIterRewards = [np.nan for i in range(self.max_iters)]\n",
    "        immEpsRewards = [np.nan for i in range(self.max_eps)]\n",
    "        cumEpsRewards = [np.nan for i in range(self.max_eps)]\n",
    "        Q = [[self.init for a in range(self.task.num_actions)] for s in range(self.task.num_states)]\n",
    "        \n",
    "        # Stop when max Episodes or max Iterations is reached!\n",
    "        # The following comments are meant to reflect the pseudocode\n",
    "        while (numEps < self.max_eps and numIters < self.max_iters):\n",
    "            # Initialize S\n",
    "            self.task.reset()\n",
    "            state = self.task.observe()\n",
    "            # Choose A from S using policy derived from Q\n",
    "            totalEpReward = 0\n",
    "            # Repeat for each step of episode\n",
    "            while((not self.task.is_terminal(state)) and numIters < self.max_iters):\n",
    "                # Choose A from S using policy derived from Q\n",
    "                action = self.chooseAction(state, Q)\n",
    "                \n",
    "                # Take action A, observe R, S'\n",
    "                new_state, reward = self.task.perform_action(action)\n",
    "                \n",
    "                # Update all iteration rewards\n",
    "                immIterRewards[numIters] = reward\n",
    "                if numIters > 0:\n",
    "                    cumIterRewards[numIters] = cumIterRewards[numIters-1] + reward\n",
    "                else:\n",
    "                    cumIterRewards[numIters] = reward\n",
    "                \n",
    "                # Update Q\n",
    "                Q[state][action] = Q[state][action] + self.alpha(numIters+1)*(reward + self.gamma*max([Q[new_state][a] for a in self.act_list]) - Q[state][action])\n",
    "                \n",
    "                # Update state\n",
    "                state = new_state\n",
    "         \n",
    "                # Updae totals and counts\n",
    "                totalEpReward += reward\n",
    "                numIters += 1\n",
    "            \n",
    "            # Compute episode rewards\n",
    "            immEpsRewards[numEps] = totalEpReward\n",
    "            if numEps > 0:\n",
    "                cumEpsRewards[numEps] = cumEpsRewards[numEps-1] + totalEpReward\n",
    "            else:\n",
    "                cumEpsRewards[numEps] = totalEpReward\n",
    "            numEps += 1\n",
    "            \n",
    "        self.total_i_i.append(immIterRewards)\n",
    "        self.total_c_i.append(cumIterRewards)\n",
    "        self.total_i_e.append(immEpsRewards)\n",
    "        self.total_c_e.append(cumEpsRewards) "
   ]
  }
 ],
 "metadata": {
  "kernelspec": {
   "display_name": "Python 2",
   "language": "python",
   "name": "python2"
  },
  "language_info": {
   "codemirror_mode": {
    "name": "ipython",
    "version": 2
   },
   "file_extension": ".py",
   "mimetype": "text/x-python",
   "name": "python",
   "nbconvert_exporter": "python",
   "pygments_lexer": "ipython2",
   "version": "2.7.8"
  }
 },
 "nbformat": 4,
 "nbformat_minor": 0
}
